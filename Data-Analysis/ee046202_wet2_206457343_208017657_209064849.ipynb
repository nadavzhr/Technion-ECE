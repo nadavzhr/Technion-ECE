{
  "cells": [
    {
      "cell_type": "markdown",
      "metadata": {
        "id": "dW-Yoebl_oQI"
      },
      "source": [
        "# <img src=\"https://img.icons8.com/dusk/64/000000/artificial-intelligence.png\" style=\"height:50px;display:inline\"> EE 046202 - Technion - Unsupervised Learning & Data Analysis\n",
        "---\n",
        "\n",
        "## Computer Assignment 2 - SimCLR\n",
        "---\n",
        "\n",
        "### <img src=\"https://img.icons8.com/bubbles/50/000000/checklist.png\" style=\"height:50px;display:inline\"> Agenda\n",
        "---\n",
        "* Dry question: SimCLR vs approximate Spectral Clustering\n",
        "* Implementation\n",
        "    * SimCLR for downstream classification\n",
        "\n",
        "#### Use as many cells as you need\n",
        "#### אפשר גם לכתוב בעברית, אבל עדיף באנגלית\n",
        "\n",
        "* Code Tasks are denoted with: <img src=\"https://img.icons8.com/color/48/null/code.png\">\n",
        "* Questions (which you need to answer in a Markdown cell) are denoted with: <img src=\"https://img.icons8.com/bubbles/48/000000/ask-question.png\">"
      ]
    },
    {
      "cell_type": "markdown",
      "metadata": {
        "id": "k_I_Hmta_oQY"
      },
      "source": [
        "### <img src=\"https://img.icons8.com/bubbles/50/null/information.png\" style=\"height:50px;display:inline\"> Students Information\n",
        "---\n",
        "* Fill in\n",
        "\n",
        "|Name     |Campus Email| ID  |\n",
        "|---------|--------------------------------|----------|\n",
        "|Nadav Zohar| nadav.zohar@campus.technion.ac.il| 206457343|\n",
        "|Dor Yefet| dor.yefet@campus.technion.ac.il| 208017657 |\n",
        "|Amit Amram| amit.amram@campus.technion.ac.il| 209064849|\n"
      ]
    },
    {
      "cell_type": "markdown",
      "metadata": {
        "id": "ThRzMI5Z_oQb"
      },
      "source": [
        "### <img src=\"https://img.icons8.com/bubbles/50/null/upload-to-cloud.png\" style=\"height:50px;display:inline\"> Submission Guidelines\n",
        "---\n",
        "* Maximal garde: **100** (even with a bonus, the grade will not be above 100).\n",
        "    * Example: if you got 5 points bonus, but you were correct in all sections, your grade will still be 100 (and not 105).\n",
        "    * Example: if you got 5 points bonus, and 6 points were deducted for wrong answers, your grade will be 99.\n",
        "* Submission only in **pairs**.\n",
        "    * Please make sure you have registered your group in Moodle (there is a group creation component on the Moodle where you need to create your group and assign members).\n",
        "* **No handwritten submissions.** You can choose whether to answer in a Markdown cell in this notebook or attach a PDF with your answers.\n",
        "* <a style='color:red'> SAVE THE NOTEBOOKS WITH THE OUTPUT, CODE CELLS THAT WERE NOT RUN WILL NOT GET ANY POINTS! </a>\n",
        "* What you have to submit:\n",
        "    * Submit a `.zip` file with the name `ee046202_wet2_id1_id2.zip` with content:\n",
        "        * `ee046202_wet2_id1_id2.ipynb` - the code tasks\n",
        "        * `ee046202_wet2_id1_id2.pdf` - answers to questions. If you solved everything in the notebook, print the notebook as pdf. **Make sure all plots are displayed**\n",
        "    * No other file-types (`.py`, `.docx`...) will be accepted.\n",
        "* Submission on the course website (Moodle).\n",
        "* **Latex in Colab** - in some cases, Latex equations may no be rendered. To avoid this, make sure to not use *bullets* in your answers (\"* some text here with Latex equations\" -> \"some text here with Latex equations\")."
      ]
    },
    {
      "cell_type": "markdown",
      "metadata": {
        "id": "q2YrxMhm_oQi"
      },
      "source": [
        "### <img src=\"https://img.icons8.com/clouds/96/null/keyboard.png\" style=\"height:50px;display:inline\"> Keyboard Shortcuts\n",
        "---\n",
        "* Run current cell: **Ctrl + Enter**\n",
        "* Run current cell and move to the next: **Shift + Enter**\n",
        "* Show lines in a code cell: **Esc + L**\n",
        "* View function documentation: **Shift + Tab** inside the parenthesis or `help(name_of_module)`\n",
        "* New cell below: **Esc + B**\n",
        "* Delete cell: **Esc + D, D** (two D's)"
      ]
    },
    {
      "cell_type": "markdown",
      "metadata": {
        "id": "GcqBVN12_oQk"
      },
      "source": [
        "### <img src=\"https://img.icons8.com/cute-clipart/64/null/info.png\" style=\"height:50px;display:inline\"> Tip\n",
        "---\n",
        "If you find it more convenient, you can copy the section to a new cell, and answer the question or rite the code just right below it. For example:\n",
        "\n",
        "#### Question 0\n",
        "1. What is the best course in the Technion?\n",
        "2. Why does no one pick Bulbasaur as first pokemon?\n",
        "3. Why is there no superhero named Catman?\n",
        "\n",
        "#### Answers - Q0\n",
        "\n",
        "#### Q0 - Section 1\n",
        "* Q: What is the best course in the Technion?"
      ]
    },
    {
      "cell_type": "code",
      "execution_count": null,
      "metadata": {
        "id": "mdR06shd_oQm",
        "colab": {
          "base_uri": "https://localhost:8080/"
        },
        "outputId": "93266032-f670-4541-9d55-960b5f934ba7"
      },
      "outputs": [
        {
          "output_type": "stream",
          "name": "stdout",
          "text": [
            "ANAM!\n"
          ]
        }
      ],
      "source": [
        "print(\"ANAM!\")"
      ]
    },
    {
      "cell_type": "markdown",
      "metadata": {
        "id": "hwwkXZ1Y_oQw"
      },
      "source": [
        "#### Q0 - Section 2\n",
        "* Q: Why does no one pick Bulbasaur as first pokemon?\n",
        "\n",
        "It is really a riddle....\n",
        "\n",
        "#### Q0 - Section 3\n",
        "* Q: Why is there no superhero named Catman?\n",
        "\n",
        "I got nothing."
      ]
    },
    {
      "cell_type": "code",
      "source": [],
      "metadata": {
        "id": "ait2G2zvOE7n"
      },
      "execution_count": null,
      "outputs": []
    },
    {
      "cell_type": "markdown",
      "metadata": {
        "id": "KJmPZeWb_oQz"
      },
      "source": [
        "### <img src=\"https://img.icons8.com/bubbles/48/000000/ask-question.png\" style=\"height:50px;display:inline\"> Dry Question - SimCLR vs approximate spectral clustering\n",
        "---\n",
        "In this question, we will mark $(x,x^+)$ as a postive pair, and $x'_i$ as the other images in the same batch (without distrinction on augmentation).\n",
        "We will also mark the representation function as $f(x)$ (as in the original paper).\n",
        "1. Show that the N-pair contrastive loss used in SimCLR (NT-Xent) can be written as $$\\ell_{x,x^+}=-f(x)^Tf(x^+)+\\log\\left (e^{f(x)^Tf(x^+)}+\\sum_{i=1}^{2N}I_{[x_i\\neq x,x^+]}e^{f(x)^Tf(x_i)}\\right )$$\n",
        "    * Use $\\tau=1$, $sim(f(x_1),f(x_2))=f(x_1)^Tf(x_2)$.\n",
        "    \n",
        "Suppose we define a graph of augmentations, such that the weight of each augmented pair is its marginal probability $w_{x,x'}=\\mathbb{E}_{\\bar{x}\\sim P_X}[\\mathrm{Pr}(x|\\bar{x})\\mathrm{Pr}(x'|\\bar{x})]$.\n",
        "<a href=\"https://proceedings.neurips.cc/paper/2021/hash/27debb435021eb68b3965290b5e24c49-Abstract.html\">HaoChen, J. Z., et al.</a> show that Spectral Clustering on the data augmentation graph plus a linear classification head can generalize well under some (complicated) conditions.\n",
        "\n",
        "Spectral clustering would attempt to find the optimal embedding matrix $F^*$ that minimizes $$F^*=\\arg\\min_F ||\\bar{L}-FF^T||^2_F$$ where $\\bar{L}$ is the normalized Laplacian of the augmentations graph.\n",
        "This is not actually feasible unless the embedding is very small, so we parametrize the rows of $F^*$ using a neural network $f$ and minimize the **spectral contrastive loss** $$L(f)=-2\\mathbb{E}_{x,x^+}[f(x)^T f(x^+)]+\\mathbb{E}_{x,x'}[(f(x)^T f(x'))^2]$$ where we assume that $x,x^+,x'$ are drawn independently from each other given a random source data point.\n",
        "\n",
        "2. Compare the spectral contrastive loss $L(f)$ and the NT-Xent loss $\\ell_{x,x^+}$. How could we translate one to the other?\n",
        "3. What is the main advantage of using $L(f)$ over $\\ell_{x,x^+}$? Hint: Consider the batch size $N$."
      ]
    },
    {
      "cell_type": "markdown",
      "metadata": {
        "id": "RblkIQH4_oQ0"
      },
      "source": [
        "------"
      ]
    },
    {
      "cell_type": "markdown",
      "metadata": {
        "id": "ojj2n9uC_oQ2"
      },
      "source": [
        "### <img src=\"https://img.icons8.com/color/48/null/code.png\" style=\"height:50px;display:inline\"> Task 1 - SimCLR\n",
        "---\n",
        "In this task, we will use SimCLR to learn an embedding for images from CIFAR-10, and use that embedding to classify test data.\n",
        "While we do so, we will also look at the effect of batch size on the model's performance.\n",
        "   \n",
        "The tasks:\n",
        "1. Create a SimCLR model. You can do this like the tutorial or use the built-in ```pytorch-lightning``` integration in lightly. We recommend you use lightly for this, but you can implement everything yourselves in pytorch if you want to.\n",
        "2. Load the CIFAR-10 training dataset, as in the tutorial, and create a train loader.\n",
        "3. For batch size$\\in\\{8, 32, 256\\}$, train the SimCLR for 20 epochs and keep track of:\n",
        "    * The average contrastive loss in each epoch\n",
        "    * A checkpoint of the network in the format: `m_(value of batch size)_simclr_20_epochs.pth`\n",
        "        * DO NOT SUBMIT THE CHECKPOINTS, THEY ARE FOR YOU TO USE.\n",
        "    * This may take a while, especially for ```batch_size=8```, consider running on a small subset of the dataset at first and scaling up, and run the full experiment overnight.\n",
        "4. For all batch sizes, plot the training loss vs. epochs. Show all three training loss curve on a single plot.\n",
        "5. For each of the models from section 3, use ```model.backbone``` **as a fixed model** and a linear classification head (```nn.Linear(512, 10)```) to train a classifier for 5 epochs. Use a batch size of 64 for the optimization of the linear head.\n",
        "    * See <a href=\"https://docs.lightly.ai/self-supervised-learning/tutorials/package/tutorial_moco_memory_bank.html\">the lightly tutorial for MoCo classifier on CIFAR-10</a> if you are having issues.\n",
        "    * Make sure the optimizer's parameters are *only* the linear head's parameters.\n",
        "    * It may be a good idea to save a checkpoint for the linear heads.\n",
        "6. Load the CIFAR-10 test dataset, evaluate the test accuracy for each classifier model and print the results.\n",
        "7. Create a custom augmentation containing only ```ColorJitter``` and ```torchvision.transforms.Normalize``` with the ImageNet mean and standard deviation (```lightly.transforms.utils.IMAGENET_NORMALIZE```). Apply your augmentation to the input data and re-train the SimCLR model with batch size 256 on the new augmented dataset for 20 epochs, then use ```model.backbone``` as a fixed model like in section 5 to train a classifier for 5 epochs. Compare the test accuracy to the one achieved with normal augmentation.\n",
        "\n",
        "\n",
        "* Notes:\n",
        "    * Be organized - separate to different code cells if it keeps you organized.\n",
        "    * Make sure to properly define the hyper-parameters (see tutorial), and define the `device` automatically. Don't forget to send all the models and tensors to the device. We will run your code on a GPU."
      ]
    },
    {
      "cell_type": "code",
      "execution_count": null,
      "metadata": {
        "id": "YhvJfkYk_oQ3",
        "colab": {
          "base_uri": "https://localhost:8080/"
        },
        "collapsed": true,
        "outputId": "e1fb9bd9-ff60-4030-9bf4-6afe04ffda52"
      },
      "outputs": [
        {
          "output_type": "stream",
          "name": "stdout",
          "text": [
            "Requirement already satisfied: lightly in /usr/local/lib/python3.11/dist-packages (1.5.18)\n",
            "Requirement already satisfied: certifi>=14.05.14 in /usr/local/lib/python3.11/dist-packages (from lightly) (2024.12.14)\n",
            "Requirement already satisfied: hydra-core>=1.0.0 in /usr/local/lib/python3.11/dist-packages (from lightly) (1.3.2)\n",
            "Requirement already satisfied: lightly_utils~=0.0.0 in /usr/local/lib/python3.11/dist-packages (from lightly) (0.0.2)\n",
            "Requirement already satisfied: numpy>=1.18.1 in /usr/local/lib/python3.11/dist-packages (from lightly) (1.26.4)\n",
            "Requirement already satisfied: python_dateutil>=2.5.3 in /usr/local/lib/python3.11/dist-packages (from lightly) (2.8.2)\n",
            "Requirement already satisfied: requests>=2.23.0 in /usr/local/lib/python3.11/dist-packages (from lightly) (2.32.3)\n",
            "Requirement already satisfied: six>=1.10 in /usr/local/lib/python3.11/dist-packages (from lightly) (1.17.0)\n",
            "Requirement already satisfied: tqdm>=4.44 in /usr/local/lib/python3.11/dist-packages (from lightly) (4.67.1)\n",
            "Requirement already satisfied: torch in /usr/local/lib/python3.11/dist-packages (from lightly) (2.5.1+cu124)\n",
            "Requirement already satisfied: torchvision in /usr/local/lib/python3.11/dist-packages (from lightly) (0.20.1+cu124)\n",
            "Requirement already satisfied: pydantic>=1.10.5 in /usr/local/lib/python3.11/dist-packages (from lightly) (2.10.6)\n",
            "Requirement already satisfied: pytorch_lightning>=1.0.4 in /usr/local/lib/python3.11/dist-packages (from lightly) (2.5.0.post0)\n",
            "Requirement already satisfied: urllib3>=1.25.3 in /usr/local/lib/python3.11/dist-packages (from lightly) (2.3.0)\n",
            "Requirement already satisfied: aenum>=3.1.11 in /usr/local/lib/python3.11/dist-packages (from lightly) (3.1.15)\n",
            "Requirement already satisfied: omegaconf<2.4,>=2.2 in /usr/local/lib/python3.11/dist-packages (from hydra-core>=1.0.0->lightly) (2.3.0)\n",
            "Requirement already satisfied: antlr4-python3-runtime==4.9.* in /usr/local/lib/python3.11/dist-packages (from hydra-core>=1.0.0->lightly) (4.9.3)\n",
            "Requirement already satisfied: packaging in /usr/local/lib/python3.11/dist-packages (from hydra-core>=1.0.0->lightly) (24.2)\n",
            "Requirement already satisfied: Pillow in /usr/local/lib/python3.11/dist-packages (from lightly_utils~=0.0.0->lightly) (11.1.0)\n",
            "Requirement already satisfied: annotated-types>=0.6.0 in /usr/local/lib/python3.11/dist-packages (from pydantic>=1.10.5->lightly) (0.7.0)\n",
            "Requirement already satisfied: pydantic-core==2.27.2 in /usr/local/lib/python3.11/dist-packages (from pydantic>=1.10.5->lightly) (2.27.2)\n",
            "Requirement already satisfied: typing-extensions>=4.12.2 in /usr/local/lib/python3.11/dist-packages (from pydantic>=1.10.5->lightly) (4.12.2)\n",
            "Requirement already satisfied: PyYAML>=5.4 in /usr/local/lib/python3.11/dist-packages (from pytorch_lightning>=1.0.4->lightly) (6.0.2)\n",
            "Requirement already satisfied: fsspec>=2022.5.0 in /usr/local/lib/python3.11/dist-packages (from fsspec[http]>=2022.5.0->pytorch_lightning>=1.0.4->lightly) (2024.10.0)\n",
            "Requirement already satisfied: torchmetrics>=0.7.0 in /usr/local/lib/python3.11/dist-packages (from pytorch_lightning>=1.0.4->lightly) (1.6.1)\n",
            "Requirement already satisfied: lightning-utilities>=0.10.0 in /usr/local/lib/python3.11/dist-packages (from pytorch_lightning>=1.0.4->lightly) (0.12.0)\n",
            "Requirement already satisfied: charset-normalizer<4,>=2 in /usr/local/lib/python3.11/dist-packages (from requests>=2.23.0->lightly) (3.4.1)\n",
            "Requirement already satisfied: idna<4,>=2.5 in /usr/local/lib/python3.11/dist-packages (from requests>=2.23.0->lightly) (3.10)\n",
            "Requirement already satisfied: filelock in /usr/local/lib/python3.11/dist-packages (from torch->lightly) (3.17.0)\n",
            "Requirement already satisfied: networkx in /usr/local/lib/python3.11/dist-packages (from torch->lightly) (3.4.2)\n",
            "Requirement already satisfied: jinja2 in /usr/local/lib/python3.11/dist-packages (from torch->lightly) (3.1.5)\n",
            "Requirement already satisfied: nvidia-cuda-nvrtc-cu12==12.4.127 in /usr/local/lib/python3.11/dist-packages (from torch->lightly) (12.4.127)\n",
            "Requirement already satisfied: nvidia-cuda-runtime-cu12==12.4.127 in /usr/local/lib/python3.11/dist-packages (from torch->lightly) (12.4.127)\n",
            "Requirement already satisfied: nvidia-cuda-cupti-cu12==12.4.127 in /usr/local/lib/python3.11/dist-packages (from torch->lightly) (12.4.127)\n",
            "Requirement already satisfied: nvidia-cudnn-cu12==9.1.0.70 in /usr/local/lib/python3.11/dist-packages (from torch->lightly) (9.1.0.70)\n",
            "Requirement already satisfied: nvidia-cublas-cu12==12.4.5.8 in /usr/local/lib/python3.11/dist-packages (from torch->lightly) (12.4.5.8)\n",
            "Requirement already satisfied: nvidia-cufft-cu12==11.2.1.3 in /usr/local/lib/python3.11/dist-packages (from torch->lightly) (11.2.1.3)\n",
            "Requirement already satisfied: nvidia-curand-cu12==10.3.5.147 in /usr/local/lib/python3.11/dist-packages (from torch->lightly) (10.3.5.147)\n",
            "Requirement already satisfied: nvidia-cusolver-cu12==11.6.1.9 in /usr/local/lib/python3.11/dist-packages (from torch->lightly) (11.6.1.9)\n",
            "Requirement already satisfied: nvidia-cusparse-cu12==12.3.1.170 in /usr/local/lib/python3.11/dist-packages (from torch->lightly) (12.3.1.170)\n",
            "Requirement already satisfied: nvidia-nccl-cu12==2.21.5 in /usr/local/lib/python3.11/dist-packages (from torch->lightly) (2.21.5)\n",
            "Requirement already satisfied: nvidia-nvtx-cu12==12.4.127 in /usr/local/lib/python3.11/dist-packages (from torch->lightly) (12.4.127)\n",
            "Requirement already satisfied: nvidia-nvjitlink-cu12==12.4.127 in /usr/local/lib/python3.11/dist-packages (from torch->lightly) (12.4.127)\n",
            "Requirement already satisfied: triton==3.1.0 in /usr/local/lib/python3.11/dist-packages (from torch->lightly) (3.1.0)\n",
            "Requirement already satisfied: sympy==1.13.1 in /usr/local/lib/python3.11/dist-packages (from torch->lightly) (1.13.1)\n",
            "Requirement already satisfied: mpmath<1.4,>=1.1.0 in /usr/local/lib/python3.11/dist-packages (from sympy==1.13.1->torch->lightly) (1.3.0)\n",
            "Requirement already satisfied: aiohttp!=4.0.0a0,!=4.0.0a1 in /usr/local/lib/python3.11/dist-packages (from fsspec[http]>=2022.5.0->pytorch_lightning>=1.0.4->lightly) (3.11.11)\n",
            "Requirement already satisfied: setuptools in /usr/local/lib/python3.11/dist-packages (from lightning-utilities>=0.10.0->pytorch_lightning>=1.0.4->lightly) (75.1.0)\n",
            "Requirement already satisfied: MarkupSafe>=2.0 in /usr/local/lib/python3.11/dist-packages (from jinja2->torch->lightly) (3.0.2)\n",
            "Requirement already satisfied: aiohappyeyeballs>=2.3.0 in /usr/local/lib/python3.11/dist-packages (from aiohttp!=4.0.0a0,!=4.0.0a1->fsspec[http]>=2022.5.0->pytorch_lightning>=1.0.4->lightly) (2.4.4)\n",
            "Requirement already satisfied: aiosignal>=1.1.2 in /usr/local/lib/python3.11/dist-packages (from aiohttp!=4.0.0a0,!=4.0.0a1->fsspec[http]>=2022.5.0->pytorch_lightning>=1.0.4->lightly) (1.3.2)\n",
            "Requirement already satisfied: attrs>=17.3.0 in /usr/local/lib/python3.11/dist-packages (from aiohttp!=4.0.0a0,!=4.0.0a1->fsspec[http]>=2022.5.0->pytorch_lightning>=1.0.4->lightly) (25.1.0)\n",
            "Requirement already satisfied: frozenlist>=1.1.1 in /usr/local/lib/python3.11/dist-packages (from aiohttp!=4.0.0a0,!=4.0.0a1->fsspec[http]>=2022.5.0->pytorch_lightning>=1.0.4->lightly) (1.5.0)\n",
            "Requirement already satisfied: multidict<7.0,>=4.5 in /usr/local/lib/python3.11/dist-packages (from aiohttp!=4.0.0a0,!=4.0.0a1->fsspec[http]>=2022.5.0->pytorch_lightning>=1.0.4->lightly) (6.1.0)\n",
            "Requirement already satisfied: propcache>=0.2.0 in /usr/local/lib/python3.11/dist-packages (from aiohttp!=4.0.0a0,!=4.0.0a1->fsspec[http]>=2022.5.0->pytorch_lightning>=1.0.4->lightly) (0.2.1)\n",
            "Requirement already satisfied: yarl<2.0,>=1.17.0 in /usr/local/lib/python3.11/dist-packages (from aiohttp!=4.0.0a0,!=4.0.0a1->fsspec[http]>=2022.5.0->pytorch_lightning>=1.0.4->lightly) (1.18.3)\n"
          ]
        }
      ],
      "source": [
        "pip install lightly"
      ]
    },
    {
      "cell_type": "markdown",
      "source": [
        "Section 1"
      ],
      "metadata": {
        "id": "fPbZyjmVaWB5"
      }
    },
    {
      "cell_type": "code",
      "source": [
        "import torch\n",
        "import torchvision\n",
        "from lightly import loss\n",
        "from lightly import transforms\n",
        "from lightly.data import LightlyDataset\n",
        "from lightly.models.modules import heads\n",
        "import pytorch_lightning as pl\n",
        "from pytorch_lightning.callbacks import ModelCheckpoint\n",
        "import matplotlib.pyplot as plt\n",
        "from tqdm import tqdm\n",
        "import time\n",
        "from lightly.models import SimCLR\n",
        "from lightly.models.utils import deactivate_requires_grad\n",
        "from lightly.transforms.utils import IMAGENET_NORMALIZE\n",
        "\n"
      ],
      "metadata": {
        "id": "1QaewlwMWC53",
        "colab": {
          "base_uri": "https://localhost:8080/"
        },
        "outputId": "a0583864-99c3-4f4b-fce5-092766c382d8"
      },
      "execution_count": null,
      "outputs": [
        {
          "output_type": "stream",
          "name": "stderr",
          "text": [
            "/usr/local/lib/python3.11/dist-packages/torchvision/transforms/v2/_deprecated.py:42: UserWarning: The transform `ToTensor()` is deprecated and will be removed in a future release. Instead, please use `v2.Compose([v2.ToImage(), v2.ToDtype(torch.float32, scale=True)])`.Output is equivalent up to float precision.\n",
            "  warnings.warn(\n"
          ]
        }
      ]
    },
    {
      "cell_type": "code",
      "source": [
        "device = torch.device(\"cuda:0\" if torch.cuda.is_available() else \"cpu\") # use gpu 0 i\n",
        "print(device)\n",
        "class SimCLR(torch.nn.Module):\n",
        "    def __init__(self, backbone, device):\n",
        "        super().__init__()\n",
        "        self.backbone = backbone\n",
        "        self.projection_head = heads.SimCLRProjectionHead(\n",
        "            input_dim=512, # Resnet18 features have 512 dimensions.\n",
        "            hidden_dim=512,\n",
        "            output_dim=128,\n",
        "        ).to(device)\n",
        "        self.device=device\n",
        "    def forward(self, x):\n",
        "        features = self.backbone(x).flatten(start_dim=1)\n",
        "        z = self.projection_head(features)\n",
        "        return z\n",
        "# Use a resnet backbone.\n",
        "backbone = torchvision.models.resnet18().to(device)\n",
        "# Ignore the classification head as we only want the features.\n",
        "backbone.fc = torch.nn.Identity()\n",
        "# Build the SimCLR model.\n",
        "model = SimCLR(backbone, device).to(device)"
      ],
      "metadata": {
        "colab": {
          "base_uri": "https://localhost:8080/"
        },
        "id": "GYvgIsJFYcFQ",
        "outputId": "be89c3de-c58d-4fb8-d8ca-f35c8ba9e65d"
      },
      "execution_count": null,
      "outputs": [
        {
          "output_type": "stream",
          "name": "stdout",
          "text": [
            "cuda:0\n"
          ]
        }
      ]
    },
    {
      "cell_type": "markdown",
      "source": [
        "Section 2"
      ],
      "metadata": {
        "id": "BSw2L2QWabVZ"
      }
    },
    {
      "cell_type": "code",
      "source": [
        "transform = transforms.SimCLRTransform(input_size=32, cj_prob=0.5)\n",
        "# Create a dataset from your image folder.\n",
        "cifar_train_dataset = torchvision.datasets.CIFAR10(\n",
        "    root='./datasets/',\n",
        "    train=True,\n",
        "    download=True,\n",
        "    transform=torchvision.transforms.ToTensor(),\n",
        ")\n",
        "\n",
        "dataset = LightlyDataset.from_torch_dataset(cifar_train_dataset, transform=transform)\n",
        "\n",
        "epochs = 20\n",
        "batch_sizes = [8, 32, 256]\n",
        "data_loaders = []\n",
        "for batch_size in batch_sizes:\n",
        "    # Build a PyTorch dataloader.\n",
        "    dataloader = torch.utils.data.DataLoader(\n",
        "        dataset, # Pass the dataset to the dataloader.\n",
        "        batch_size=batch_size, # A large batch size helps with the learning.\n",
        "        shuffle=True, # Shuffling is important!\n",
        "    )\n",
        "    data_loaders.append(dataloader)\n",
        "\n",
        "batch_size_to_average_contrastive_loss = {}\n"
      ],
      "metadata": {
        "colab": {
          "base_uri": "https://localhost:8080/"
        },
        "collapsed": true,
        "id": "rLyr6_LGYmo-",
        "outputId": "0d85b037-48ce-41f1-a27a-7f507c577480"
      },
      "execution_count": null,
      "outputs": [
        {
          "output_type": "stream",
          "name": "stdout",
          "text": [
            "Files already downloaded and verified\n"
          ]
        }
      ]
    },
    {
      "cell_type": "markdown",
      "source": [
        "Section 3"
      ],
      "metadata": {
        "id": "OLtnTpDXejEH"
      }
    },
    {
      "cell_type": "code",
      "source": [
        "batch_size_index = 2\n",
        "batch_size = 256\n",
        "batch_size_to_average_contrastive_loss[batch_size] = []\n",
        "dataloader = data_loaders[batch_size_index]\n",
        "model_file = f\"./m_{batch_size}_simclr_{epochs}_epochs.pth\"\n",
        "criterion = loss.NTXentLoss(temperature=0.5)\n",
        "optimizer = torch.optim.SGD(model.parameters(), lr=0.1, weight_decay=1e-6)\n",
        "model.train()\n",
        "for epoch in range(epochs):\n",
        "    start_time = time.time()\n",
        "    avg_loss = 0\n",
        "    for (view0, view1), targets, filenames in dataloader:\n",
        "        z0 = model(view0.to(device))\n",
        "        z1 = model(view1.to(device))\n",
        "        current_loss = criterion(z0, z1) # NT-Xent loss!\n",
        "        # Same 3 steps:\n",
        "        current_loss.backward()\n",
        "        optimizer.step()\n",
        "        optimizer.zero_grad()\n",
        "        avg_loss += current_loss.item() / len(dataloader)\n",
        "    batch_size_to_average_contrastive_loss[batch_size].append(avg_loss)\n",
        "    print(f\"epoch: {epoch}, loss: {avg_loss:.5f}, batch_size: {batch_size}, time [minutes]: {(time.time() - start_time) / 60}\")\n",
        "    torch.save(model, model_file)\n"
      ],
      "metadata": {
        "id": "c54USP96XSBA",
        "colab": {
          "base_uri": "https://localhost:8080/"
        },
        "outputId": "59310a3f-9995-492f-9f94-dc5ca39b125e"
      },
      "execution_count": null,
      "outputs": [
        {
          "output_type": "stream",
          "name": "stdout",
          "text": [
            "epoch: 0, loss: 5.74607, batch_size: 256, time [minutes]: 1.731353016694387\n",
            "epoch: 1, loss: 5.57625, batch_size: 256, time [minutes]: 1.7022300521532694\n",
            "epoch: 2, loss: 5.50923, batch_size: 256, time [minutes]: 1.6952221194903057\n",
            "epoch: 3, loss: 5.46612, batch_size: 256, time [minutes]: 1.6965744018554687\n",
            "epoch: 4, loss: 5.43385, batch_size: 256, time [minutes]: 1.692798372109731\n",
            "epoch: 5, loss: 5.41090, batch_size: 256, time [minutes]: 1.6978543837865194\n",
            "epoch: 6, loss: 5.38931, batch_size: 256, time [minutes]: 1.7036412358283997\n",
            "epoch: 7, loss: 5.37448, batch_size: 256, time [minutes]: 1.7201534628868103\n",
            "epoch: 8, loss: 5.36020, batch_size: 256, time [minutes]: 1.7086260199546814\n",
            "epoch: 9, loss: 5.34502, batch_size: 256, time [minutes]: 1.7040549357732138\n",
            "epoch: 10, loss: 5.34236, batch_size: 256, time [minutes]: 1.704698121547699\n",
            "epoch: 11, loss: 5.32469, batch_size: 256, time [minutes]: 1.6922439376513163\n",
            "epoch: 12, loss: 5.31539, batch_size: 256, time [minutes]: 1.6960076252619425\n",
            "epoch: 13, loss: 5.31032, batch_size: 256, time [minutes]: 1.7062496066093444\n",
            "epoch: 14, loss: 5.30267, batch_size: 256, time [minutes]: 1.726822884877523\n",
            "epoch: 15, loss: 5.29223, batch_size: 256, time [minutes]: 1.7172295212745667\n",
            "epoch: 16, loss: 5.29130, batch_size: 256, time [minutes]: 1.7146166205406188\n",
            "epoch: 17, loss: 5.27865, batch_size: 256, time [minutes]: 1.7273368835449219\n",
            "epoch: 18, loss: 5.26915, batch_size: 256, time [minutes]: 1.733752195040385\n",
            "epoch: 19, loss: 5.26807, batch_size: 256, time [minutes]: 1.7238552610079447\n"
          ]
        }
      ]
    },
    {
      "cell_type": "code",
      "source": [
        "batch_size_index = 1\n",
        "batch_size = 32\n",
        "batch_size_to_average_contrastive_loss[batch_size] = []\n",
        "dataloader = data_loaders[batch_size_index]\n",
        "model_file = f\"./m_{batch_size}_simclr_{epochs}_epochs.pth\"\n",
        "criterion = loss.NTXentLoss(temperature=0.5)\n",
        "optimizer = torch.optim.SGD(model.parameters(), lr=0.1, weight_decay=1e-6)\n",
        "model.train()\n",
        "for epoch in range(epochs):\n",
        "    start_time = time.time()\n",
        "    avg_loss = 0\n",
        "    for (view0, view1), targets, filenames in dataloader:\n",
        "        z0 = model(view0.to(device))\n",
        "        z1 = model(view1.to(device))\n",
        "        current_loss = criterion(z0, z1) # NT-Xent loss!\n",
        "        # Same 3 steps:\n",
        "        current_loss.backward()\n",
        "        optimizer.step()\n",
        "        optimizer.zero_grad()\n",
        "        avg_loss += current_loss.item() / len(dataloader)\n",
        "    batch_size_to_average_contrastive_loss[batch_size].append(avg_loss)\n",
        "    print(f\"epoch: {epoch}, loss: {avg_loss:.5f}, batch_size: {batch_size}, time [minutes]: {(time.time() - start_time) / 60}\")\n",
        "    torch.save(model, model_file)"
      ],
      "metadata": {
        "id": "16DDBG_revRO",
        "colab": {
          "base_uri": "https://localhost:8080/"
        },
        "outputId": "0840fe5e-ed90-411c-e3de-d9389519f921"
      },
      "execution_count": null,
      "outputs": [
        {
          "output_type": "stream",
          "name": "stdout",
          "text": [
            "epoch: 0, loss: 3.29766, batch_size: 32, time [minutes]: 2.4016867677370706\n",
            "epoch: 1, loss: 3.23928, batch_size: 32, time [minutes]: 2.441925223668416\n",
            "epoch: 2, loss: 3.20976, batch_size: 32, time [minutes]: 2.474523663520813\n",
            "epoch: 3, loss: 3.19103, batch_size: 32, time [minutes]: 2.4954105337460835\n",
            "epoch: 4, loss: 3.16716, batch_size: 32, time [minutes]: 2.507473576068878\n",
            "epoch: 5, loss: 3.16399, batch_size: 32, time [minutes]: 2.4503106832504273\n",
            "epoch: 6, loss: 3.14682, batch_size: 32, time [minutes]: 2.3911544760068257\n",
            "epoch: 7, loss: 3.13371, batch_size: 32, time [minutes]: 2.3770554343859356\n",
            "epoch: 8, loss: 3.12161, batch_size: 32, time [minutes]: 2.3415700435638427\n",
            "epoch: 9, loss: 3.11800, batch_size: 32, time [minutes]: 2.3577111919720966\n",
            "epoch: 10, loss: 3.11350, batch_size: 32, time [minutes]: 2.3602679133415223\n",
            "epoch: 11, loss: 3.10070, batch_size: 32, time [minutes]: 2.4114983558654783\n",
            "epoch: 12, loss: 3.09493, batch_size: 32, time [minutes]: 2.416004840532939\n",
            "epoch: 13, loss: 3.08819, batch_size: 32, time [minutes]: 2.374619440237681\n",
            "epoch: 14, loss: 3.08118, batch_size: 32, time [minutes]: 2.364618110656738\n",
            "epoch: 15, loss: 3.07911, batch_size: 32, time [minutes]: 2.3605623483657836\n",
            "epoch: 16, loss: 3.07558, batch_size: 32, time [minutes]: 2.3559932788213094\n",
            "epoch: 17, loss: 3.06529, batch_size: 32, time [minutes]: 2.330468225479126\n",
            "epoch: 18, loss: 3.05837, batch_size: 32, time [minutes]: 2.2937659939130146\n",
            "epoch: 19, loss: 3.05217, batch_size: 32, time [minutes]: 2.2894584854443867\n"
          ]
        }
      ]
    },
    {
      "cell_type": "code",
      "source": [
        "batch_size_index = 0\n",
        "batch_size = 8\n",
        "batch_size_to_average_contrastive_loss[batch_size] = []\n",
        "dataloader = data_loaders[batch_size_index]\n",
        "model_file = f\"./m_{batch_size}_simclr_{epochs}_epochs.pth\"\n",
        "criterion = loss.NTXentLoss(temperature=0.5)\n",
        "optimizer = torch.optim.SGD(model.parameters(), lr=0.1, weight_decay=1e-6)\n",
        "model.train()\n",
        "for epoch in range(epochs):\n",
        "    start_time = time.time()\n",
        "    avg_loss = 0\n",
        "    for (view0, view1), targets, filenames in dataloader:\n",
        "        z0 = model(view0.to(device))\n",
        "        z1 = model(view1.to(device))\n",
        "        current_loss = criterion(z0, z1) # NT-Xent loss!\n",
        "        # Same 3 steps:\n",
        "        current_loss.backward()\n",
        "        optimizer.step()\n",
        "        optimizer.zero_grad()\n",
        "        avg_loss += current_loss.item() / len(dataloader)\n",
        "    batch_size_to_average_contrastive_loss[batch_size].append(avg_loss)\n",
        "    print(f\"epoch: {epoch}, loss: {avg_loss:.5f}, batch_size: {batch_size}, time [minutes]: {(time.time() - start_time) / 60}\")\n",
        "    torch.save(model, model_file)"
      ],
      "metadata": {
        "id": "FuvRUmzQe8fy",
        "colab": {
          "base_uri": "https://localhost:8080/"
        },
        "outputId": "9174a6db-731a-4b4a-d492-a58a4ed11444"
      },
      "execution_count": null,
      "outputs": [
        {
          "output_type": "stream",
          "name": "stdout",
          "text": [
            "epoch: 0, loss: 2.14986, batch_size: 8, time [minutes]: 3.91541272799174\n",
            "epoch: 1, loss: 1.98610, batch_size: 8, time [minutes]: 3.851151768366496\n",
            "epoch: 2, loss: 1.90962, batch_size: 8, time [minutes]: 3.9486263553301493\n",
            "epoch: 3, loss: 1.86101, batch_size: 8, time [minutes]: 3.8907981872558595\n",
            "epoch: 4, loss: 1.82459, batch_size: 8, time [minutes]: 3.903598165512085\n",
            "epoch: 5, loss: 1.80132, batch_size: 8, time [minutes]: 4.036270900567373\n",
            "epoch: 6, loss: 1.76905, batch_size: 8, time [minutes]: 4.050644747416178\n",
            "epoch: 7, loss: 1.75811, batch_size: 8, time [minutes]: 3.825530934333801\n",
            "epoch: 8, loss: 1.73795, batch_size: 8, time [minutes]: 3.598910979429881\n",
            "epoch: 9, loss: 1.72190, batch_size: 8, time [minutes]: 3.5715139349301657\n",
            "epoch: 10, loss: 1.71073, batch_size: 8, time [minutes]: 3.623346964518229\n",
            "epoch: 11, loss: 1.70615, batch_size: 8, time [minutes]: 3.629663328329722\n",
            "epoch: 12, loss: 1.69504, batch_size: 8, time [minutes]: 3.6219215313593547\n",
            "epoch: 13, loss: 1.68388, batch_size: 8, time [minutes]: 3.6359193642934162\n",
            "epoch: 14, loss: 1.67574, batch_size: 8, time [minutes]: 3.636301855246226\n",
            "epoch: 15, loss: 1.67287, batch_size: 8, time [minutes]: 3.671467125415802\n",
            "epoch: 16, loss: 1.66053, batch_size: 8, time [minutes]: 3.6393393874168396\n",
            "epoch: 17, loss: 1.65657, batch_size: 8, time [minutes]: 3.642396104335785\n",
            "epoch: 18, loss: 1.64931, batch_size: 8, time [minutes]: 3.6621357440948485\n",
            "epoch: 19, loss: 1.64612, batch_size: 8, time [minutes]: 3.6423633098602295\n"
          ]
        }
      ]
    },
    {
      "cell_type": "code",
      "source": [
        "# Plot of the three contrastive losses - this is for our own use, each plot in its own figure to better observe the values\n",
        "loss_b8 = batch_size_to_average_contrastive_loss[8]\n",
        "loss_b32 = batch_size_to_average_contrastive_loss[32]\n",
        "loss_b256 = batch_size_to_average_contrastive_loss[256]\n",
        "\n",
        "fig, axs = plt.subplots(3, 1, figsize=(8, 12))\n",
        "for i, batch_size in enumerate([8,32,256]):\n",
        "    axs[i].plot(batch_size_to_average_contrastive_loss[batch_size], label=f'batch size {batch_size}')\n",
        "    axs[i].set_title(f'Training Loss - batch size {batch_size}')\n",
        "    axs[i].set_xlabel('Epochs')\n",
        "    axs[i].set_ylabel('Loss')\n",
        "    axs[i].legend()\n",
        "plt.tight_layout()\n",
        "plt.show()"
      ],
      "metadata": {
        "id": "WBa5Y5LbfCB7",
        "colab": {
          "base_uri": "https://localhost:8080/",
          "height": 1000
        },
        "outputId": "c569826e-f29e-4090-914b-ccbf8cda1787"
      },
      "execution_count": 2,
      "outputs": [
        {
          "output_type": "display_data",
          "data": {
            "text/plain": [
              "<Figure size 800x1200 with 3 Axes>"
            ],
            "image/png": "[encoded data removed]"
          },
          "metadata": {}
        }
      ]
    },
    {
      "cell_type": "markdown",
      "source": [
        "Section 4"
      ],
      "metadata": {
        "id": "vaZzYwpa_Jo4"
      }
    },
    {
      "cell_type": "code",
      "source": [
        "plt.figure(figsize=(8, 6))  # Adjust figsize as needed\n",
        "\n",
        "# Plot data for each batch size\n",
        "plt.plot(loss_b8, label='Batch Size 8')\n",
        "plt.plot(loss_b32, label='Batch Size 32')\n",
        "plt.plot(loss_b256, label='Batch Size 256')\n",
        "\n",
        "# Set plot labels and title\n",
        "plt.xlabel('Epoch')\n",
        "plt.ylabel('Loss')\n",
        "plt.title('Training Loss for Different Batch Sizes')\n",
        "\n",
        "# Add a legend\n",
        "plt.legend()\n",
        "\n",
        "# Display the plot\n",
        "plt.show()"
      ],
      "metadata": {
        "id": "d7eHu_oNgzH_",
        "colab": {
          "base_uri": "https://localhost:8080/",
          "height": 564
        },
        "outputId": "f8e03141-f1a6-41c1-83ee-1e4c483a70f7"
      },
      "execution_count": 3,
      "outputs": [
        {
          "output_type": "display_data",
          "data": {
            "text/plain": [
              "<Figure size 800x600 with 1 Axes>"
            ],
            "image/png": "[encoded data removed]"
          },
          "metadata": {}
        }
      ]
    },
    {
      "cell_type": "markdown",
      "source": [
        "Section 5"
      ],
      "metadata": {
        "id": "h-eszDNbFeLc"
      }
    },
    {
      "cell_type": "code",
      "source": [
        "from lightly.models.utils import deactivate_requires_grad\n",
        "\n",
        "class FinalModel(torch.nn.Module):\n",
        "    def __init__(self, device, backbone):\n",
        "        super().__init__()\n",
        "        self.device = device\n",
        "        self.backbone = backbone\n",
        "        self.fc = torch.nn.Linear(512, 10)\n",
        "        deactivate_requires_grad(self.backbone)\n",
        "\n",
        "    def forward(self, x):\n",
        "        x = self.backbone(x)\n",
        "        x = self.fc(x)\n",
        "        return x"
      ],
      "metadata": {
        "id": "lf6QSLlTKru1"
      },
      "execution_count": null,
      "outputs": []
    },
    {
      "cell_type": "code",
      "source": [
        "new_batch_size = 64\n",
        "new_epochs = 5\n",
        "\n",
        "cifar_train_dataset = torchvision.datasets.CIFAR10(\n",
        "    root='./datasets/',\n",
        "    train=True,\n",
        "    download=True,\n",
        "    transform=torchvision.transforms.ToTensor(),\n",
        ")\n",
        "\n",
        "cifar_test_dataset = torchvision.datasets.CIFAR10(\n",
        "    root='./datasets/',\n",
        "    train=False,\n",
        "    download=True,\n",
        "    transform=torchvision.transforms.ToTensor(),\n",
        ")\n",
        "\n",
        "# Data loader\n",
        "cifar_train_loader = torch.utils.data.DataLoader(dataset=cifar_train_dataset, batch_size=new_batch_size, shuffle=True, drop_last=True)\n",
        "# Data loader\n",
        "cifar_test_loader = torch.utils.data.DataLoader(dataset=cifar_test_dataset, batch_size=new_batch_size, shuffle=False)\n"
      ],
      "metadata": {
        "id": "63VpEuWtKrkG",
        "colab": {
          "base_uri": "https://localhost:8080/"
        },
        "outputId": "a07c80da-64b7-42fc-a287-d533b53274ee"
      },
      "execution_count": null,
      "outputs": [
        {
          "output_type": "stream",
          "name": "stdout",
          "text": [
            "Files already downloaded and verified\n",
            "Files already downloaded and verified\n"
          ]
        }
      ]
    },
    {
      "cell_type": "code",
      "source": [
        "for batch_size in batch_sizes:\n",
        "    current_model = torch.load(f\"./m_{batch_size}_simclr_20_epochs.pth\")\n",
        "    new_model = FinalModel(device, current_model.backbone).to(device)\n",
        "    new_model.train()\n",
        "    criterion = torch.nn.CrossEntropyLoss()\n",
        "    optimizer = torch.optim.Adam(new_model.parameters(), lr=0.1)\n",
        "    for epoch in range(new_epochs):\n",
        "        start_time = time.time()\n",
        "        avg_loss = 0\n",
        "        for images, labels in cifar_train_loader:\n",
        "            images = images.to(device)\n",
        "            labels = labels.to(device)\n",
        "            outputs = new_model(images)\n",
        "            current_loss = criterion(outputs, labels)\n",
        "            optimizer.zero_grad()\n",
        "            current_loss.backward()\n",
        "            optimizer.step()\n",
        "            avg_loss += current_loss.item() / len(cifar_train_loader)\n",
        "        print(f\"epoch: {epoch}, loss: {avg_loss:.5f}, batch_size: {new_batch_size}, time [minutes]: {(time.time() - start_time) / 60}\")\n",
        "    torch.save(new_model, f\"./trained_linear_model_{batch_size}_5_epochs.pth\")"
      ],
      "metadata": {
        "id": "qJlbtwgdKrWE",
        "colab": {
          "base_uri": "https://localhost:8080/"
        },
        "outputId": "fe46c919-7b12-4ab3-969f-0b661a273d50"
      },
      "execution_count": null,
      "outputs": [
        {
          "output_type": "stream",
          "name": "stderr",
          "text": [
            "<ipython-input-20-72571a1d9f86>:2: FutureWarning: You are using `torch.load` with `weights_only=False` (the current default value), which uses the default pickle module implicitly. It is possible to construct malicious pickle data which will execute arbitrary code during unpickling (See https://github.com/pytorch/pytorch/blob/main/SECURITY.md#untrusted-models for more details). In a future release, the default value for `weights_only` will be flipped to `True`. This limits the functions that could be executed during unpickling. Arbitrary objects will no longer be allowed to be loaded via this mode unless they are explicitly allowlisted by the user via `torch.serialization.add_safe_globals`. We recommend you start setting `weights_only=True` for any use case where you don't have full control of the loaded file. Please open an issue on GitHub for any issues related to this experimental feature.\n",
            "  current_model = torch.load(f\"/content/drive/MyDrive/m_{batch_size}_simclr_20_epochs.pth\", map_location=torch.device(\"cpu\"))\n"
          ]
        },
        {
          "output_type": "stream",
          "name": "stdout",
          "text": [
            "epoch: 0, loss: 12.46568, batch_size: 64, time [minutes]: 2.699828577041626\n",
            "epoch: 1, loss: 11.93732, batch_size: 64, time [minutes]: 2.7027750849723815\n",
            "epoch: 2, loss: 12.08458, batch_size: 64, time [minutes]: 2.77708998521169\n",
            "epoch: 3, loss: 12.25069, batch_size: 64, time [minutes]: 2.6559900363286335\n",
            "epoch: 4, loss: 12.14987, batch_size: 64, time [minutes]: 2.679387426376343\n",
            "epoch: 0, loss: 12.37622, batch_size: 64, time [minutes]: 2.779605201880137\n",
            "epoch: 1, loss: 12.10085, batch_size: 64, time [minutes]: 2.6848345081011455\n",
            "epoch: 2, loss: 12.39954, batch_size: 64, time [minutes]: 2.6614017724990844\n",
            "epoch: 3, loss: 12.56575, batch_size: 64, time [minutes]: 2.6873355786005657\n",
            "epoch: 4, loss: 12.47354, batch_size: 64, time [minutes]: 2.7741832454999287\n",
            "epoch: 0, loss: 11.25914, batch_size: 64, time [minutes]: 2.6833038290341693\n",
            "epoch: 1, loss: 11.43099, batch_size: 64, time [minutes]: 2.6568195104598997\n",
            "epoch: 2, loss: 11.70462, batch_size: 64, time [minutes]: 2.67601486047109\n",
            "epoch: 3, loss: 11.92875, batch_size: 64, time [minutes]: 2.650899322827657\n",
            "epoch: 4, loss: 11.82320, batch_size: 64, time [minutes]: 2.6782013257344564\n"
          ]
        }
      ]
    },
    {
      "cell_type": "markdown",
      "source": [
        "Section 6"
      ],
      "metadata": {
        "id": "u3hU61my0gax"
      }
    },
    {
      "cell_type": "code",
      "source": [
        "for batch_size in batch_sizes:\n",
        "    current_model = torch.load(f\"./trained_linear_model_{batch_size}_5_epochs.pth\")\n",
        "    current_model.eval()\n",
        "    with torch.no_grad():\n",
        "        # \"don't keep track of the gradients\" -> faster, can also use .detach()\n",
        "        correct = 0\n",
        "        total = 0\n",
        "        for images, labels in cifar_test_loader:\n",
        "            images = images.to(device)\n",
        "            labels = labels.to(device)\n",
        "            outputs = current_model(images)\n",
        "            _, predicted = torch.max(outputs.data, 1)\n",
        "            total += labels.size(0)\n",
        "            correct += (predicted == labels).sum().item()\n",
        "        print(f'Test Accuracy of the model of original batch size {batch_size} on the 10000 test images: {(100 * correct/total)} %')"
      ],
      "metadata": {
        "id": "h5nBtZRnKqu4",
        "colab": {
          "base_uri": "https://localhost:8080/"
        },
        "outputId": "36733984-a809-4184-d027-a8a128884767"
      },
      "execution_count": null,
      "outputs": [
        {
          "output_type": "stream",
          "name": "stderr",
          "text": [
            "<ipython-input-21-3d8e778648a8>:2: FutureWarning: You are using `torch.load` with `weights_only=False` (the current default value), which uses the default pickle module implicitly. It is possible to construct malicious pickle data which will execute arbitrary code during unpickling (See https://github.com/pytorch/pytorch/blob/main/SECURITY.md#untrusted-models for more details). In a future release, the default value for `weights_only` will be flipped to `True`. This limits the functions that could be executed during unpickling. Arbitrary objects will no longer be allowed to be loaded via this mode unless they are explicitly allowlisted by the user via `torch.serialization.add_safe_globals`. We recommend you start setting `weights_only=True` for any use case where you don't have full control of the loaded file. Please open an issue on GitHub for any issues related to this experimental feature.\n",
            "  current_model = torch.load(f\"/content/drive/MyDrive/trained_linear_model_{batch_size}_5_epochs.pth\", map_location=torch.device(\"cpu\"))\n"
          ]
        },
        {
          "output_type": "stream",
          "name": "stdout",
          "text": [
            "Test Accuracy of the model of original batch size 8 on the 10000 test images: 41.14 %\n",
            "Test Accuracy of the model of original batch size 32 on the 10000 test images: 39.31 %\n",
            "Test Accuracy of the model of original batch size 256 on the 10000 test images: 35.36 %\n"
          ]
        }
      ]
    },
    {
      "cell_type": "markdown",
      "source": [
        "Section 7"
      ],
      "metadata": {
        "id": "Vn2CC1X1Fjp0"
      }
    },
    {
      "cell_type": "code",
      "source": [
        "# Define custom augmentation with ColorJitter and Normalize - didn't work.\n",
        "# custom_transform = torchvision.transforms.Compose([\n",
        "#     torchvision.transforms.ColorJitter(brightness=0.4, contrast=0.4, saturation=0.4, hue=0.1),\n",
        "#     torchvision.transforms.ToTensor(),\n",
        "#     torchvision.transforms.Normalize(mean=IMAGENET_NORMALIZE[\"mean\"], std=IMAGENET_NORMALIZE[\"std\"])\n",
        "# ])\n",
        "custom_transform = transforms.SimCLRTransform(\n",
        "    input_size=32,\n",
        "    cj_prob=0.4,  # ColorJitter probability\n",
        "    normalize=IMAGENET_NORMALIZE  # Correct way to normalize\n",
        ")\n",
        "# Load CIFAR-10 dataset with new augmentation\n",
        "cifar_train_dataset = torchvision.datasets.CIFAR10(\n",
        "    root='./datasets/',\n",
        "    train=True,\n",
        "    download=True,\n",
        "    transform=torchvision.transforms.ToTensor(),\n",
        ")\n",
        "\n",
        "\n",
        "# Data loaders\n",
        "batch_size = 256\n",
        "epochs = 20\n",
        "dataset = LightlyDataset.from_torch_dataset(cifar_train_dataset, transform=custom_transform)\n",
        "\n",
        "train_loader = torch.utils.data.DataLoader(dataset=dataset, batch_size=batch_size, shuffle=True, drop_last=True)\n",
        "\n",
        "\n"
      ],
      "metadata": {
        "colab": {
          "base_uri": "https://localhost:8080/"
        },
        "id": "uZ83mDnz7fCx",
        "outputId": "6b4c7ef0-6aec-4590-9335-254645f6c6c8"
      },
      "execution_count": null,
      "outputs": [
        {
          "output_type": "stream",
          "name": "stderr",
          "text": [
            "/usr/local/lib/python3.11/dist-packages/torchvision/transforms/v2/_deprecated.py:42: UserWarning: The transform `ToTensor()` is deprecated and will be removed in a future release. Instead, please use `v2.Compose([v2.ToImage(), v2.ToDtype(torch.float32, scale=True)])`.Output is equivalent up to float precision.\n",
            "  warnings.warn(\n"
          ]
        },
        {
          "output_type": "stream",
          "name": "stdout",
          "text": [
            "Files already downloaded and verified\n"
          ]
        }
      ]
    },
    {
      "cell_type": "code",
      "source": [
        "# Use a resnet backbone.\n",
        "backbone = torchvision.models.resnet18().to(device)\n",
        "# Ignore the classification head as we only want the features.\n",
        "backbone.fc = torch.nn.Identity()\n",
        "# Build the SimCLR model.\n",
        "model = SimCLR(backbone, device).to(device)"
      ],
      "metadata": {
        "id": "T0Gls9ib9o-i"
      },
      "execution_count": null,
      "outputs": []
    },
    {
      "cell_type": "code",
      "source": [
        "model_file = f\"./custom_tranform_m_{batch_size}_simclr_{epochs}_epochs.pth\"\n",
        "criterion = loss.NTXentLoss(temperature=0.5)\n",
        "optimizer = torch.optim.SGD(model.parameters(), lr=0.1, weight_decay=1e-6)\n",
        "model.train()\n",
        "for epoch in range(epochs):\n",
        "    start_time = time.time()\n",
        "    avg_loss = 0\n",
        "    for (view0, view1), targets, filenames in train_loader:\n",
        "        z0 = model(view0.to(device))\n",
        "        z1 = model(view1.to(device))\n",
        "        current_loss = criterion(z0, z1) # NT-Xent loss!\n",
        "        # Same 3 steps:\n",
        "        current_loss.backward()\n",
        "        optimizer.step()\n",
        "        optimizer.zero_grad()\n",
        "        avg_loss += current_loss.item() / len(train_loader)\n",
        "    print(f\"epoch: {epoch}, loss: {avg_loss:.5f}, batch_size: {batch_size}, time [minutes]: {(time.time() - start_time) / 60}\")\n",
        "    torch.save(model, model_file)"
      ],
      "metadata": {
        "colab": {
          "base_uri": "https://localhost:8080/"
        },
        "id": "-bcK2Qz486rI",
        "outputId": "7cc627e9-5bb9-420a-bc8d-0eafa963c1de"
      },
      "execution_count": null,
      "outputs": [
        {
          "output_type": "stream",
          "name": "stdout",
          "text": [
            "epoch: 0, loss: 5.68658, batch_size: 256, time [minutes]: 1.7079113205273946\n",
            "epoch: 1, loss: 5.53206, batch_size: 256, time [minutes]: 1.635721472899119\n",
            "epoch: 2, loss: 5.47879, batch_size: 256, time [minutes]: 1.6283727566401163\n",
            "epoch: 3, loss: 5.43994, batch_size: 256, time [minutes]: 1.6663990338643393\n",
            "epoch: 4, loss: 5.41387, batch_size: 256, time [minutes]: 1.6418764352798463\n",
            "epoch: 5, loss: 5.39070, batch_size: 256, time [minutes]: 1.650787929693858\n",
            "epoch: 6, loss: 5.37074, batch_size: 256, time [minutes]: 1.6407698392868042\n",
            "epoch: 7, loss: 5.35977, batch_size: 256, time [minutes]: 1.6284895380338034\n",
            "epoch: 8, loss: 5.35041, batch_size: 256, time [minutes]: 1.6294960180918376\n",
            "epoch: 9, loss: 5.32871, batch_size: 256, time [minutes]: 1.6568954785664876\n",
            "epoch: 10, loss: 5.32408, batch_size: 256, time [minutes]: 1.642160181204478\n",
            "epoch: 11, loss: 5.31234, batch_size: 256, time [minutes]: 1.6509884198506672\n",
            "epoch: 12, loss: 5.30390, batch_size: 256, time [minutes]: 1.6466576059659321\n",
            "epoch: 13, loss: 5.29512, batch_size: 256, time [minutes]: 1.6462717016537984\n",
            "epoch: 14, loss: 5.28553, batch_size: 256, time [minutes]: 1.6310072580973307\n",
            "epoch: 15, loss: 5.28262, batch_size: 256, time [minutes]: 1.6514651775360107\n",
            "epoch: 16, loss: 5.27328, batch_size: 256, time [minutes]: 1.6494766394297282\n",
            "epoch: 17, loss: 5.26956, batch_size: 256, time [minutes]: 1.6497159957885743\n",
            "epoch: 18, loss: 5.26270, batch_size: 256, time [minutes]: 1.6424378593762716\n",
            "epoch: 19, loss: 5.25546, batch_size: 256, time [minutes]: 1.6396011193593343\n"
          ]
        }
      ]
    },
    {
      "cell_type": "code",
      "source": [
        "new_batch_size = 256\n",
        "new_epochs = 5\n",
        "\n",
        "cifar_train_dataset = torchvision.datasets.CIFAR10(\n",
        "    root='./datasets/',\n",
        "    train=True,\n",
        "    download=True,\n",
        "    transform=torchvision.transforms.ToTensor(),\n",
        ")\n",
        "\n",
        "cifar_test_dataset = torchvision.datasets.CIFAR10(\n",
        "    root='./datasets/',\n",
        "    train=False,\n",
        "    download=True,\n",
        "    transform=torchvision.transforms.ToTensor(),\n",
        ")\n",
        "\n",
        "# Data loader\n",
        "cifar_train_loader = torch.utils.data.DataLoader(dataset=cifar_train_dataset, batch_size=new_batch_size, shuffle=True, drop_last=True)\n",
        "# Data loader\n",
        "cifar_test_loader = torch.utils.data.DataLoader(dataset=cifar_test_dataset, batch_size=new_batch_size, shuffle=False)"
      ],
      "metadata": {
        "colab": {
          "base_uri": "https://localhost:8080/"
        },
        "id": "tdStY7bENhkH",
        "outputId": "8ec746e7-5169-49d0-e885-9cbe3d7e39e5"
      },
      "execution_count": null,
      "outputs": [
        {
          "output_type": "stream",
          "name": "stdout",
          "text": [
            "Downloading https://www.cs.toronto.edu/~kriz/cifar-10-python.tar.gz to ./datasets/cifar-10-python.tar.gz\n"
          ]
        },
        {
          "output_type": "stream",
          "name": "stderr",
          "text": [
            "100%|██████████| 170M/170M [00:02<00:00, 78.1MB/s]\n"
          ]
        },
        {
          "output_type": "stream",
          "name": "stdout",
          "text": [
            "Extracting ./datasets/cifar-10-python.tar.gz to ./datasets/\n",
            "Files already downloaded and verified\n"
          ]
        }
      ]
    },
    {
      "cell_type": "code",
      "source": [
        "current_model = torch.load(f\"./custom_transform_m_{new_batch_size}_simclr_20_epochs.pth\", map_location=torch.device(\"cpu\"))\n",
        "new_model = FinalModel(device, current_model.backbone).to(device)\n",
        "new_model.train()\n",
        "criterion = torch.nn.CrossEntropyLoss()\n",
        "optimizer = torch.optim.Adam(new_model.parameters(), lr=0.1)\n",
        "for epoch in range(new_epochs):\n",
        "    start_time = time.time()\n",
        "    avg_loss = 0\n",
        "    for images, labels in cifar_train_loader:\n",
        "        images = images.to(device)\n",
        "        labels = labels.to(device)\n",
        "        outputs = new_model(images)\n",
        "        current_loss = criterion(outputs, labels)\n",
        "        optimizer.zero_grad()\n",
        "        current_loss.backward()\n",
        "        optimizer.step()\n",
        "        avg_loss += current_loss.item() / len(cifar_train_loader)\n",
        "    print(f\"epoch: {epoch}, loss: {avg_loss:.5f}, batch_size: {new_batch_size}, time [minutes]: {(time.time() - start_time) / 60}\")\n",
        "torch.save(new_model, f\"./custom_transform_trained_linear_model_{new_batch_size}_5_epochs.pth\")"
      ],
      "metadata": {
        "colab": {
          "base_uri": "https://localhost:8080/"
        },
        "id": "4gIHGe8jOAzA",
        "outputId": "d62dade7-61f9-462c-868b-a8eb279a0c7d"
      },
      "execution_count": null,
      "outputs": [
        {
          "output_type": "stream",
          "name": "stderr",
          "text": [
            "<ipython-input-15-024c315368ff>:1: FutureWarning: You are using `torch.load` with `weights_only=False` (the current default value), which uses the default pickle module implicitly. It is possible to construct malicious pickle data which will execute arbitrary code during unpickling (See https://github.com/pytorch/pytorch/blob/main/SECURITY.md#untrusted-models for more details). In a future release, the default value for `weights_only` will be flipped to `True`. This limits the functions that could be executed during unpickling. Arbitrary objects will no longer be allowed to be loaded via this mode unless they are explicitly allowlisted by the user via `torch.serialization.add_safe_globals`. We recommend you start setting `weights_only=True` for any use case where you don't have full control of the loaded file. Please open an issue on GitHub for any issues related to this experimental feature.\n",
            "  current_model = torch.load(f\"/content/custom_transform_m_{new_batch_size}_simclr_20_epochs.pth\", map_location=torch.device(\"cpu\"))\n"
          ]
        },
        {
          "output_type": "stream",
          "name": "stdout",
          "text": [
            "epoch: 0, loss: 7.91090, batch_size: 256, time [minutes]: 2.4507886370023093\n",
            "epoch: 1, loss: 4.67116, batch_size: 256, time [minutes]: 2.447348395983378\n",
            "epoch: 2, loss: 4.72525, batch_size: 256, time [minutes]: 2.448971923192342\n",
            "epoch: 3, loss: 4.71204, batch_size: 256, time [minutes]: 2.467694342136383\n",
            "epoch: 4, loss: 4.61274, batch_size: 256, time [minutes]: 2.418310284614563\n"
          ]
        }
      ]
    },
    {
      "cell_type": "code",
      "source": [
        "\n",
        "current_model = torch.load(f\"./custom_transform_trained_linear_model_{new_batch_size}_5_epochs.pth\")\n",
        "current_model.eval()\n",
        "with torch.no_grad():\n",
        "    # \"don't keep track of the gradients\" -> faster, can also use .detach()\n",
        "    correct = 0\n",
        "    total = 0\n",
        "    for images, labels in cifar_test_loader:\n",
        "        images = images.to(device)\n",
        "        labels = labels.to(device)\n",
        "        outputs = current_model(images)\n",
        "        _, predicted = torch.max(outputs.data, 1)\n",
        "        total += labels.size(0)\n",
        "        correct += (predicted == labels).sum().item()\n",
        "    print(f'Test Accuracy of the model of original batch size {new_batch_size} on the 10000 test images: {(100 * correct/total)} %')"
      ],
      "metadata": {
        "colab": {
          "base_uri": "https://localhost:8080/"
        },
        "id": "HiBP5TRPNgoJ",
        "outputId": "fd22a0c3-a33a-4ccd-f662-301be4c02b05"
      },
      "execution_count": null,
      "outputs": [
        {
          "output_type": "stream",
          "name": "stderr",
          "text": [
            "<ipython-input-16-f13bf0f5aa33>:1: FutureWarning: You are using `torch.load` with `weights_only=False` (the current default value), which uses the default pickle module implicitly. It is possible to construct malicious pickle data which will execute arbitrary code during unpickling (See https://github.com/pytorch/pytorch/blob/main/SECURITY.md#untrusted-models for more details). In a future release, the default value for `weights_only` will be flipped to `True`. This limits the functions that could be executed during unpickling. Arbitrary objects will no longer be allowed to be loaded via this mode unless they are explicitly allowlisted by the user via `torch.serialization.add_safe_globals`. We recommend you start setting `weights_only=True` for any use case where you don't have full control of the loaded file. Please open an issue on GitHub for any issues related to this experimental feature.\n",
            "  current_model = torch.load(f\"./custom_transform_trained_linear_model_{new_batch_size}_5_epochs.pth\")\n"
          ]
        },
        {
          "output_type": "stream",
          "name": "stdout",
          "text": [
            "Test Accuracy of the model of original batch size 256 on the 10000 test images: 38.09 %\n"
          ]
        }
      ]
    },
    {
      "cell_type": "markdown",
      "metadata": {
        "id": "-7cFyLQE_oQ4"
      },
      "source": [
        "### <img src=\"https://img.icons8.com/bubbles/48/000000/ask-question.png\" style=\"height:50px;display:inline\"> Question 1 - SimCLR and batch sizes\n",
        "---\n",
        "We will now analyze the results. Answer the following questions:\n",
        "1. Explain intuitively the loss function of SimCLR. In your answer, explain where the batch size parameter comes into play.\n",
        "2. What is the main trend in the training loss vs. epochs? In your answer, you should compare between batch sizes.\n",
        "3. What is the effect of batch size on test accuracy?\n",
        "4. What is the effect of using fewer augmentations (e.g. just ColorJitter) on the test accuracy? Why?"
      ]
    },
    {
      "cell_type": "markdown",
      "metadata": {
        "id": "4tfWoFA2_oQ5"
      },
      "source": [
        "## <img src=\"https://img.icons8.com/dusk/64/000000/prize.png\" style=\"height:50px;display:inline\"> Credits\n",
        "* <a href=\"https://proceedings.neurips.cc/paper/2021/hash/27debb435021eb68b3965290b5e24c49-Abstract.html\">Provable guarantees for self-supervised deep learning with spectral contrastive loss</a>, HaoChen, J. Z., et al. 2021\n",
        "* <a href=\"https://github.com/lightly-ai/lightly\">Lightly SSL</a>\n",
        "* Icons from <a href=\"https://icons8.com/\">Icon8.com</a> - https://icons8.com\n",
        "* Datasets from <a href=\"https://www.kaggle.com/\">Kaggle</a> - https://www.kaggle.com/"
      ]
    }
  ],
  "metadata": {
    "kernelspec": {
      "display_name": "Python 3",
      "name": "python3"
    },
    "language_info": {
      "codemirror_mode": {
        "name": "ipython",
        "version": 3
      },
      "file_extension": ".py",
      "mimetype": "text/x-python",
      "name": "python",
      "nbconvert_exporter": "python",
      "pygments_lexer": "ipython3",
      "version": "3.12.7"
    },
    "colab": {
      "provenance": [],
      "gpuType": "T4"
    },
    "accelerator": "GPU"
  },
  "nbformat": 4,
  "nbformat_minor": 0
}